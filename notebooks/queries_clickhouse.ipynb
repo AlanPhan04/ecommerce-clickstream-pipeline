{
 "cells": [
  {
   "cell_type": "markdown",
   "metadata": {},
   "source": [
    "# ClickHouse Query Examples
",
    "Một số truy vấn mẫu để phân tích hành vi người dùng."
   ]
  },
  {
   "cell_type": "code",
   "execution_count": null,
   "metadata": {},
   "outputs": [],
   "source": [
    "SELECT event_type, count(*) as cnt
",
    "FROM clickstream_events
",
    "WHERE event_date = today()
",
    "GROUP BY event_type
",
    "ORDER BY cnt DESC
",
    "LIMIT 10;"
   ]
  }
 ],
 "metadata": {
  "kernelspec": {
   "display_name": "Python 3",
   "language": "python",
   "name": "python3"
  },
  "language_info": {
   "name": "python"
  }
 },
 "nbformat": 4,
 "nbformat_minor": 5
}